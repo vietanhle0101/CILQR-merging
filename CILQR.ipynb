{
 "cells": [
  {
   "cell_type": "code",
   "execution_count": 1,
   "metadata": {},
   "outputs": [],
   "source": [
    "import sys\n",
    "if sys.platform == 'win32':\n",
    "    sys.path.append(r\"C:\\Users\\vl385\\Documents\\casadi-windows-py37-v3.5.1\") \n",
    "else:\n",
    "    sys.path.append(r\"casadiinstalldir\")\n",
    "import casadi as ca"
   ]
  },
  {
   "cell_type": "code",
   "execution_count": 2,
   "metadata": {},
   "outputs": [],
   "source": [
    "import numpy as np\n",
    "import matplotlib.pyplot as plt\n",
    "import csv\n",
    "import numpy.linalg as LA\n",
    "from scipy.integrate import odeint\n",
    "# from cfm import *\n",
    "# import tensorflow as tf\n",
    "# from tensorflow import keras\n",
    "import tikzplotlib\n",
    "import copy\n",
    "from timeit import default_timer as timer\n",
    "import sympy as sp"
   ]
  },
  {
   "cell_type": "markdown",
   "metadata": {},
   "source": [
    "## Pre computation"
   ]
  },
  {
   "cell_type": "code",
   "execution_count": 19,
   "metadata": {},
   "outputs": [],
   "source": [
    "p1, v1, a1 = sp.symbols('p1 v1 a1')\n",
    "p2, v2 = sp.symbols('p2 v2')\n",
    "w1, w2, w3, w4 = sp.symbols('w1 w2 w3 w4')\n",
    "v_min, v_max = sp.symbols('v_min, v_max')\n",
    "a_min, a_max = sp.symbols('a_min, a_max')\n",
    "alpha, rho = sp.symbols('alpha, rho')\n",
    "tau = sp.symbols('tau')"
   ]
  },
  {
   "cell_type": "code",
   "execution_count": 20,
   "metadata": {},
   "outputs": [],
   "source": [
    "X = sp.Matrix([[p1],[v1]])\n",
    "U = sp.Matrix([[a1]])"
   ]
  },
  {
   "cell_type": "code",
   "execution_count": 21,
   "metadata": {},
   "outputs": [],
   "source": [
    "V = w2*(v1-v_max)**2 - w3*sp.log(p1**2+p2**2-2*alpha*p1*p2-rho**2) - w4*sp.log(v_max-v1) - w4*sp.log(v1)"
   ]
  },
  {
   "cell_type": "code",
   "execution_count": 154,
   "metadata": {},
   "outputs": [],
   "source": [
    "V_x = sp.diff(V, X)\n",
    "V_x = sp.simplify(V_x)"
   ]
  },
  {
   "cell_type": "code",
   "execution_count": 155,
   "metadata": {},
   "outputs": [
    {
     "data": {
      "text/latex": [
       "$\\displaystyle \\left[\\begin{matrix}- \\frac{2 w_{3} \\left(\\alpha p_{2} - p_{1}\\right)}{2 \\alpha p_{1} p_{2} - p_{1}^{2} - p_{2}^{2} + \\rho^{2}}\\\\\\frac{2 v_{1} w_{2} \\left(v_{1} - v_{max}\\right)^{2} - v_{1} w_{4} - w_{4} \\left(v_{1} - v_{max}\\right)}{v_{1} \\left(v_{1} - v_{max}\\right)}\\end{matrix}\\right]$"
      ],
      "text/plain": [
       "Matrix([\n",
       "[       -2*w3*(alpha*p2 - p1)/(2*alpha*p1*p2 - p1**2 - p2**2 + rho**2)],\n",
       "[(2*v1*w2*(v1 - v_max)**2 - v1*w4 - w4*(v1 - v_max))/(v1*(v1 - v_max))]])"
      ]
     },
     "execution_count": 155,
     "metadata": {},
     "output_type": "execute_result"
    }
   ],
   "source": [
    "V_x"
   ]
  },
  {
   "cell_type": "code",
   "execution_count": 24,
   "metadata": {},
   "outputs": [],
   "source": [
    "V_xx = sp.Matrix([sp.diff(V_x[0], X).T, sp.diff(V_x[1], X).T]).T\n",
    "V_xx = sp.simplify(V_xx)"
   ]
  },
  {
   "cell_type": "code",
   "execution_count": 25,
   "metadata": {},
   "outputs": [
    {
     "data": {
      "text/latex": [
       "$\\displaystyle \\left[\\begin{matrix}\\frac{2 w_{3} \\left(2 \\alpha p_{1} p_{2} - p_{1}^{2} - p_{2}^{2} + \\rho^{2} + 2 \\left(\\alpha p_{2} - p_{1}\\right)^{2}\\right)}{\\left(2 \\alpha p_{1} p_{2} - p_{1}^{2} - p_{2}^{2} + \\rho^{2}\\right)^{2}} & 0\\\\0 & 2 w_{2} + \\frac{w_{4}}{\\left(v_{1} - v_{max}\\right)^{2}} + \\frac{w_{4}}{v_{1}^{2}}\\end{matrix}\\right]$"
      ],
      "text/plain": [
       "Matrix([\n",
       "[2*w3*(2*alpha*p1*p2 - p1**2 - p2**2 + rho**2 + 2*(alpha*p2 - p1)**2)/(2*alpha*p1*p2 - p1**2 - p2**2 + rho**2)**2,                                    0],\n",
       "[                                                                                                               0, 2*w2 + w4/(v1 - v_max)**2 + w4/v1**2]])"
      ]
     },
     "execution_count": 25,
     "metadata": {},
     "output_type": "execute_result"
    }
   ],
   "source": [
    "V_xx"
   ]
  },
  {
   "cell_type": "code",
   "execution_count": 26,
   "metadata": {},
   "outputs": [],
   "source": [
    "L_k = w1*a1**2"
   ]
  },
  {
   "cell_type": "code",
   "execution_count": 27,
   "metadata": {},
   "outputs": [
    {
     "data": {
      "text/latex": [
       "$\\displaystyle \\left[\\begin{matrix}2 a_{1} w_{1}\\end{matrix}\\right]$"
      ],
      "text/plain": [
       "Matrix([[2*a1*w1]])"
      ]
     },
     "execution_count": 27,
     "metadata": {},
     "output_type": "execute_result"
    }
   ],
   "source": [
    "V_u = sp.diff(L_k, U)\n",
    "V_u = sp.simplify(V_u)\n",
    "V_u"
   ]
  },
  {
   "cell_type": "code",
   "execution_count": 28,
   "metadata": {},
   "outputs": [
    {
     "data": {
      "text/latex": [
       "$\\displaystyle \\left[\\begin{matrix}2 w_{1}\\end{matrix}\\right]$"
      ],
      "text/plain": [
       "Matrix([[2*w1]])"
      ]
     },
     "execution_count": 28,
     "metadata": {},
     "output_type": "execute_result"
    }
   ],
   "source": [
    "V_uu = sp.Matrix([sp.diff(V_u[0], U).T]).T\n",
    "V_uu = sp.simplify(V_uu)\n",
    "V_uu"
   ]
  },
  {
   "cell_type": "markdown",
   "metadata": {},
   "source": [
    "# Simulation "
   ]
  },
  {
   "cell_type": "markdown",
   "metadata": {},
   "source": [
    "## Some functions"
   ]
  },
  {
   "cell_type": "code",
   "execution_count": 29,
   "metadata": {},
   "outputs": [],
   "source": [
    "def in_control_zone(p, control_zone):\n",
    "    if p >= control_zone[0] and p <= control_zone[1]:\n",
    "        return True\n",
    "    else:\n",
    "        return False\n",
    "\n",
    "def distance(p1, p2, angle):\n",
    "    if p2 <= 0:\n",
    "        dist = np.sqrt(p1**2 + p2**2 - 2*np.cos(angle)*p1*p2)\n",
    "    elif p2 > 0:\n",
    "        dist = np.abs(p1-p2)\n",
    "    return dist"
   ]
  },
  {
   "cell_type": "markdown",
   "metadata": {},
   "source": [
    "## Main classes\n"
   ]
  },
  {
   "cell_type": "code",
   "execution_count": 30,
   "metadata": {},
   "outputs": [],
   "source": [
    "class HDV:\n",
    "    lc = 3.0 # car length\n",
    "    \n",
    "    # velocity and input bounds      \n",
    "    v_min = 0.0; v_max = 30.0\n",
    "    u_min = -10.0; u_max = 5.0\n",
    "    \n",
    "    def __init__(self, x0, T = 0.1):\n",
    "        self.st = x0\n",
    "        self.input = 0.0\n",
    "        self.T = T\n",
    "\n",
    "        self.X_hist = np.empty([2,0], dtype=np.ndarray)\n",
    "        self.U_hist = np.empty([0], dtype=float)\n",
    "        self.X_hist = np.hstack([self.X_hist, x0.reshape([-1,1])])\n",
    "        \n",
    "    def set_cfm(self, model):\n",
    "        self.model = model\n",
    "        \n",
    "    def update_measurement(self, st_h):\n",
    "        self.p_h = st_h[0]; self.v_h = st_h[1]; self.u_h = st_h[2]\n",
    "        \n",
    "    def get_input(self):\n",
    "        p = self.st[0]; v = self.st[1]\n",
    "        delta_p = self.p_h - p - self.lc\n",
    "        delta_v = self.v_h - v\n",
    "        u = self.model.action(p, v, self.p_h, self.v_h, self.u_h)\n",
    "            \n",
    "#         u = max(self.u_min, min(self.u_max, u))\n",
    "        if v + self.T*u > self.v_max:\n",
    "            u = (self.v_max-v)/self.T\n",
    "        elif v + self.T*u < self.v_min:\n",
    "            u = (self.v_min-v)/self.T\n",
    "        return u\n",
    "    \n",
    "    def car_model(self, z, t, u):\n",
    "        p = z[0]; v = z[1]\n",
    "        \n",
    "        dz = np.zeros(2)\n",
    "        dz[0] = v\n",
    "        dz[1] = u\n",
    "        return dz\n",
    "        \n",
    "    def run(self, u):\n",
    "        tspan = np.linspace(0, self.T, 3)\n",
    "        y = odeint(self.car_model, self.st, tspan, args=(u,)) \n",
    "        self.st = y[-1,] \n",
    "        self.input = u\n",
    "        self.X_hist = np.hstack([self.X_hist, self.st.reshape([-1,1])])\n",
    "        self.U_hist = np.hstack([self.U_hist, self.input])  \n",
    "        \n",
    "    def run_v(self, v):\n",
    "        v = max(self.v_min, min(self.v_max, v))\n",
    "        if (v - self.st[1])/self.T < self.u_min:\n",
    "            v = self.st[1] + self.T*self.u_min\n",
    "        elif (v - self.st[1])/self.T > self.u_max:\n",
    "            v = self.st[1] + self.T*self.u_max\n",
    "        y = self.st[0] + self.T*v\n",
    "        self.st = np.array([y, v])\n",
    "        self.X_hist = np.hstack([self.X_hist, self.st.reshape([-1,1])])\n",
    "        self.U_hist = np.hstack([self.U_hist, self.input])     "
   ]
  },
  {
   "cell_type": "code",
   "execution_count": 184,
   "metadata": {},
   "outputs": [],
   "source": [
    "class CAV:\n",
    "    lc = 3.0 # car length\n",
    "    \n",
    "    # velocity and input bounds      \n",
    "    v_min = 0.0; v_max = 30.0\n",
    "    u_min = -10.0; u_max = 5.0\n",
    "    \n",
    "    def __init__(self, x0, T = 0.1):\n",
    "        self.st = x0\n",
    "        self.input = 0.0\n",
    "        self.T = T\n",
    "        self.X_hist = np.empty([2,0], dtype=np.ndarray)\n",
    "        self.U_hist = np.empty([0], dtype=float)\n",
    "        self.X_hist = np.hstack([self.X_hist, x0.reshape([-1,1])])\n",
    "        \n",
    "    def car_model(self, z, t, u):\n",
    "        v = z[1]\n",
    "\n",
    "        dz = np.zeros(2)\n",
    "        dz[0] = v\n",
    "        dz[1] = u\n",
    "        return dz\n",
    "        \n",
    "    def run(self, u):\n",
    "        u = max(self.u_min, min(self.u_max, u))\n",
    "        v = self.st[1]\n",
    "        if v + self.T*u > self.v_max:\n",
    "            u = (self.v_max-v)/self.T\n",
    "        elif v + self.T*u < self.v_min:\n",
    "            u = (self.v_min-v)/self.T\n",
    "        \n",
    "        tspan = np.linspace(0, self.T, 3)\n",
    "        y = odeint(self.car_model, self.st, tspan, args=(u,)) \n",
    "        self.st = y[-1,] \n",
    "        self.input = u\n",
    "        self.X_hist = np.hstack([self.X_hist, self.st.reshape([-1,1])])\n",
    "        self.U_hist = np.hstack([self.U_hist, self.input])        \n",
    "        \n",
    "    def run_v(self, v):\n",
    "        v = max(self.v_min, min(self.v_max, v))\n",
    "        if (v - self.st[1])/self.T < self.u_min:\n",
    "            v = self.st[1] + self.T*self.u_min\n",
    "        elif (v - self.st[1])/self.T > self.u_max:\n",
    "            v = self.st[1] + self.T*self.u_max\n",
    "        y = self.st[0] + self.T*v\n",
    "        self.st = np.array([y, v])\n",
    "        self.X_hist = np.hstack([self.X_hist, self.st.reshape([-1,1])])\n",
    "        self.U_hist = np.hstack([self.U_hist, self.input])            "
   ]
  },
  {
   "cell_type": "code",
   "execution_count": 383,
   "metadata": {},
   "outputs": [],
   "source": [
    "class CILQR:\n",
    "    # velocity and input bounds      \n",
    "    v_min = 0.0; v_max = 30.0\n",
    "    u_min = -10.0; u_max = 5.0\n",
    "    H_max = 20\n",
    "    \n",
    "    def __init__(self, N_HDV, H = 10, T = 0.1, gamma = 1e-4, lamda = 0.5, mu = 2.0):\n",
    "        self.N = N_HDV\n",
    "        self.H = H; self.T = T\n",
    "        self.gamma = gamma; self.alpha = alpha; self.mu = mu\n",
    "        \n",
    "    def set_state(self, all_st):\n",
    "        self.st = all_st[:,0]\n",
    "        self.HDV_st = all_st[:,1:]\n",
    "        \n",
    "    def set_road_info(self, r, ang):\n",
    "        self.r = r; self.alpha = np.cos(ang)\n",
    "        \n",
    "    def set_weight(self, W):\n",
    "        self.W = W\n",
    "        \n",
    "    def update_HDV_set(self, N_HDV):\n",
    "        self.N = N_HDV\n",
    "        \n",
    "    def update_horizon(self):\n",
    "        H_f = int(-(self.st[0]/self.st[1])/self.T) if self.st[1] > 0 else np.inf\n",
    "        self.H = max(1, min(H_f, self.H_max)) \n",
    "        \n",
    "    def initialize(self):\n",
    "        self.f_x = np.array([[1, self.T], [0, 1]])\n",
    "        self.f_u = np.array([[self.T**2/2], [0.1]])\n",
    "    \n",
    "    def set_nominal(self, nom_inputs = None):\n",
    "        self.nom_inputs = nom_inputs\n",
    "        self.nom_states = np.zeros([2, self.H+1])\n",
    "        self.nom_states[:,0] = self.st\n",
    "        for k in range(self.H):\n",
    "            x_k = self.nom_states[:,k]; u_k = self.nom_inputs[:,k]\n",
    "            self.nom_states[:,k+1] = x_k \\\n",
    "                    + np.array([self.T*x_k[1]+0.5*self.T**2*u_k[0], self.T*u_k[0]])\n",
    "            \n",
    "    def predict_HDV(self):\n",
    "        self.HDV_pred = np.zeros([self.N, 2, self.H+1])\n",
    "        for i in range(self.N):\n",
    "            self.HDV_pred[i,:,0] = self.HDV_st[:,i]\n",
    "            for k in range(self.H):\n",
    "                x_k = self.HDV_pred[i,:,k]; u_k = 0.0\n",
    "                self.HDV_pred[i,:,k+1] = x_k \\\n",
    "                    + np.array([self.T*x_k[1]+0.5*self.T**2*u_k, self.T*u_k])\n",
    "            \n",
    "    def backward(self):\n",
    "        X = self.nom_states[:,-1].tolist()\n",
    "        for i in range(self.N):\n",
    "            xhdv_k = self.HDV_pred[i,:,-1]\n",
    "            X += xhdv_k.tolist()\n",
    "        P1 = [self.W[1], self.W[2], self.W[3], self.alpha, self.r, self.v_max, self.v_min]\n",
    "        P2 = self.W[0]\n",
    "        V_k_x = self.num_V_x(X, P1); V_k_xx = self.num_V_xx(X, P1)\n",
    "        \n",
    "        self.q_k = np.empty(self.H, dtype=np.ndarray)\n",
    "        self.Q_k = np.empty(self.H, dtype=np.ndarray)\n",
    "        \n",
    "        for k in range(self.H):\n",
    "            X = self.nom_states[:,-2-k].tolist()\n",
    "            for i in range(self.N):\n",
    "                xhdv_k = self.HDV_pred[i,:,-2-k]\n",
    "                X += xhdv_k.tolist()            \n",
    "            \n",
    "            U = self.nom_inputs[0,-1-k]\n",
    "\n",
    "            L_k_x = self.num_V_x(X, P1); L_k_xx = self.num_V_xx(X, P1)\n",
    "            L_k_u = self.num_V_u(U, P2); L_k_uu = self.num_V_uu(U, P2)\n",
    "            \n",
    "            P_k_x = L_k_x + np.dot(self.f_x.T, V_k_x)\n",
    "            P_k_u = L_k_u + np.dot(self.f_u.T, V_k_x)\n",
    "            P_k_xx = L_k_xx + LA.multi_dot([self.f_x.T, V_k_xx, self.f_x])\n",
    "            P_k_uu = L_k_uu + LA.multi_dot([self.f_u.T, V_k_xx, self.f_u])\n",
    "            P_k_ux = LA.multi_dot([self.f_u.T, V_k_xx, self.f_x])\n",
    "            \n",
    "            P_k_uu_inv = LA.inv(P_k_uu) \n",
    "            q_k = -np.dot(P_k_uu_inv, P_k_u); self.q_k[-1-k] = q_k\n",
    "            Q_k = -np.dot(P_k_uu_inv, P_k_ux); self.Q_k[-1-k] = Q_k\n",
    "            V_k_x = P_k_x - LA.multi_dot([P_k_u.T, P_k_uu_inv, P_k_ux]).T\n",
    "            V_k_xx = P_k_xx - LA.multi_dot([P_k_ux.T, P_k_uu_inv, P_k_ux]) \n",
    "            \n",
    "            \n",
    "    def check_violation(self, inputs, states):\n",
    "        # Check bound constraints\n",
    "        violation = (np.max(inputs) > self.u_max) or (np.min(inputs) < self.u_min) \\\n",
    "                or (np.max(states[1,:]) > self.v_max) or (np.min(states[1,:]) < self.v_min)\n",
    "                \n",
    "        # Check safety constraints\n",
    "        for i in range(self.N):\n",
    "            dist = states[0,:]**2 + self.HDV_pred[i,0,:]**2 - 2*self.alpha*states*self.HDV_pred[i,0,:] - self.r**2\n",
    "            violation = violation or np.min(dist) < 0 \n",
    "            \n",
    "        return violation \n",
    "\n",
    "    def forward(self, scale_rate = 0.5):\n",
    "        nom_states = copy.deepcopy(self.nom_states)\n",
    "        nom_inputs = copy.deepcopy(self.nom_inputs)\n",
    "        for k in range(self.H):\n",
    "            delta_x = self.nom_states[:,k] - nom_states[:,k]\n",
    "            self.nom_inputs[:,k] += self.q_k[k].ravel() + np.dot(self.Q_k[k], delta_x)\n",
    "            x_k = self.nom_states[:,k]; u_k = self.nom_inputs[:,k]\n",
    "            self.nom_states[:,k+1] = x_k + \\\n",
    "                    + np.array([self.T*x_k[1]+0.5*self.T**2*u_k[0], self.T*u_k[0]])\n",
    "        \n",
    "        # Forward checking and apply line search \n",
    "        violated = self.check_violation(self.nom_inputs, self.nom_states)      \n",
    "        while violated:   \n",
    "            residual = self.nom_inputs - nom_inputs\n",
    "            residual *= scale_rate\n",
    "            self.nom_inputs = residual + nom_inputs\n",
    "            for k in range(self.H):\n",
    "                x_k = self.nom_states[:,k]; u_k = self.nom_inputs[:,k]\n",
    "                self.nom_states[:,k+1] = x_k + \\\n",
    "                    + np.array([self.T*x_k[1]+0.5*self.T**2*u_k[0], self.T*u_k[0]])\n",
    "            \n",
    "            violated = self.check_violation(self.nom_inputs, self.nom_states)\n",
    "            \n",
    "        return LA.norm(self.nom_inputs - nom_inputs)\n",
    "        \n",
    "    def CILQR(self, max_iters = 100, thres = 1e-3):\n",
    "        self.predict_HDV()\n",
    "        for i in range(max_iters):\n",
    "#             self.gamma *= self.mu\n",
    "            self.backward()\n",
    "            res = self.forward()\n",
    "#             print(i, res)\n",
    "            if res <= thres:\n",
    "                break\n",
    "        \n",
    "    def num_V_x(self, X, P):\n",
    "        p1, v1 = X[0:2] \n",
    "        w2, w3, w4, alpha, rho, v_max, v_min = P\n",
    "        V = np.zeros([2,1])\n",
    "        V[1,0] = 2*w2*(v1-v_max) - w3/(v1-v_max) - w3/(v1-v_min)\n",
    "        for i in range(self.N):\n",
    "            p2, v2 = X[2*(i+1):2*(i+2)]\n",
    "            dem = (2*alpha*p1*p2-p1**2-p2**2+rho**2)\n",
    "            V[0,0] += 2*w4*(-alpha*p2+p1)/dem\n",
    "\n",
    "        return V\n",
    "\n",
    "    def num_V_xx(self, X, P):\n",
    "        p1, v1 = X[0:2] \n",
    "        w2, w3, w4, alpha, rho, v_max, v_min = P\n",
    "        V = np.zeros([2,2])\n",
    "        V[1,1] = 2*w2 + w3/(v1-v_max)**2 + w3/(v1-v_min)**2\n",
    "        for i in range(self.N):\n",
    "            p2, v2 = X[2*(i+1):2*(i+2)]\n",
    "            dem = (2*alpha*p1*p2-p1**2-p2**2+rho**2)**2\n",
    "            V[0,0] += 2*w4*(2*alpha*p1*p2-p1**2-p2**2+rho**2+2*(alpha*p2-p1)**2)/dem\n",
    "        return V\n",
    "\n",
    "    def num_V_u(self, U, P):\n",
    "        a1 = U\n",
    "        w1 = P\n",
    "        V = np.zeros([1,1])\n",
    "        V[0,0] = 2*w1*a1 \n",
    "        return V\n",
    "\n",
    "    def num_V_uu(self, U, P):\n",
    "        a1 = U\n",
    "        w1 = P\n",
    "        V = np.zeros([1,1])\n",
    "        V[0,0] = 2*w1\n",
    "        return V\n"
   ]
  },
  {
   "cell_type": "markdown",
   "metadata": {},
   "source": [
    "## Main program"
   ]
  },
  {
   "cell_type": "code",
   "execution_count": 410,
   "metadata": {},
   "outputs": [],
   "source": [
    "np.random.seed(28)\n",
    "T = 0.1; H = 20\n",
    "HDV_ego = [False, False]\n",
    "control_zone = np.array([-120, 0])\n",
    "\n",
    "cars = []\n",
    "cars.append(CAV(np.array([-150.0, 25.0])))\n",
    "cars.append(HDV(np.array([-140.0, 25.0])))\n",
    "cars.append(HDV(np.array([-160.0, 25.0])))\n",
    "n_cars = len(cars)\n",
    "N_HDV = n_cars - 1\n",
    "\n",
    "control = CILQR(N_HDV, H, T)  \n",
    "W = np.array([1.,3.,1e2, 1e3])\n",
    "control.set_weight(W)\n",
    "r = 20; ang = np.pi/6; v_ref = 25\n",
    "control.set_road_info(r, ang)\n",
    "control.initialize()\n",
    "all_st = np.array([cars[i].st for i in range(N_HDV+1)]).T\n",
    "control.set_state(all_st)\n",
    "control.set_nominal(nom_inputs = np.zeros([1, H]))\n",
    "\n",
    "start = timer()\n",
    "control.CILQR()\n",
    "end = timer()\n",
    "# print((end-start)*1e3)\n",
    "# control.set_nominal(control.nom_inputs)\n",
    "\n",
    "L = 200 # number of simulation steps"
   ]
  },
  {
   "cell_type": "code",
   "execution_count": 411,
   "metadata": {},
   "outputs": [
    {
     "name": "stdout",
     "output_type": "stream",
     "text": [
      "Time step 0\n",
      "Time step 1\n",
      "Time step 2\n",
      "Time step 3\n",
      "Time step 4\n",
      "Time step 5\n",
      "Time step 6\n",
      "Time step 7\n",
      "Time step 8\n",
      "Time step 9\n",
      "Time step 10\n",
      "Time step 11\n",
      "Time step 12\n",
      "11.819800000012037\n",
      "Time step 13\n",
      "9.345676999146235\n",
      "Time step 14\n",
      "10.114509999766597\n",
      "Time step 15\n",
      "11.80817400017986\n",
      "Time step 16\n",
      "11.898466998900403\n",
      "Time step 17\n",
      "11.978901999100344\n",
      "Time step 18\n",
      "12.991060000786092\n",
      "Time step 19\n",
      "24.599828000646085\n",
      "Time step 20\n",
      "18.013303000770975\n",
      "Time step 21\n",
      "41.2468260001333\n",
      "Time step 22\n",
      "31.343468001068686\n",
      "Time step 23\n",
      "41.37468899898522\n",
      "Time step 24\n",
      "25.948197000616346\n",
      "Time step 25\n",
      "45.425506999890786\n",
      "Time step 26\n",
      "33.468052999523934\n",
      "Time step 27\n",
      "19.837197000015294\n",
      "Time step 28\n",
      "13.372635999985505\n",
      "Time step 29\n",
      "11.753574999602279\n",
      "Time step 30\n",
      "14.032930999746895\n",
      "Time step 31\n",
      "18.09916499951214\n",
      "Time step 32\n",
      "15.558095999949728\n",
      "Time step 33\n",
      "12.84867399954237\n",
      "Time step 34\n",
      "12.820149000617675\n",
      "Time step 35\n",
      "12.775941000654711\n",
      "Time step 36\n",
      "12.557300000480609\n",
      "Time step 37\n",
      "12.546865000331309\n",
      "Time step 38\n",
      "12.376193999443785\n",
      "Time step 39\n",
      "13.00154099953943\n",
      "Time step 40\n",
      "12.814519001040026\n",
      "Time step 41\n",
      "12.377012999422732\n",
      "Time step 42\n",
      "12.573972000609501\n",
      "Time step 43\n",
      "13.228284999058815\n",
      "Time step 44\n",
      "13.251559999844176\n",
      "Time step 45\n",
      "13.758225000856328\n",
      "Time step 46\n",
      "16.441575000499142\n",
      "Time step 47\n",
      "13.352194999242784\n",
      "Time step 48\n",
      "13.434045999019872\n",
      "Time step 49\n",
      "14.683429999422515\n",
      "Time step 50\n",
      "15.256984001098317\n",
      "Time step 51\n",
      "15.444307999132434\n",
      "Time step 52\n",
      "15.803840000444325\n",
      "Time step 53\n",
      "13.76862199867901\n",
      "Time step 54\n",
      "12.445022999600042\n",
      "Time step 55\n",
      "15.506387999266735\n",
      "Time step 56\n",
      "Time step 57\n",
      "Time step 58\n",
      "Time step 59\n",
      "Time step 60\n",
      "Time step 61\n",
      "Time step 62\n",
      "Time step 63\n",
      "Time step 64\n",
      "Time step 65\n",
      "Time step 66\n",
      "Time step 67\n",
      "Time step 68\n",
      "Time step 69\n",
      "Time step 70\n",
      "Time step 71\n",
      "Time step 72\n",
      "Time step 73\n",
      "Time step 74\n",
      "Time step 75\n",
      "Time step 76\n",
      "Time step 77\n",
      "Time step 78\n",
      "Time step 79\n",
      "Time step 80\n",
      "Time step 81\n",
      "Time step 82\n",
      "Time step 83\n",
      "Time step 84\n",
      "Time step 85\n",
      "Time step 86\n",
      "Time step 87\n",
      "Time step 88\n",
      "Time step 89\n",
      "Time step 90\n",
      "Time step 91\n",
      "Time step 92\n",
      "Time step 93\n",
      "Time step 94\n",
      "Time step 95\n",
      "Time step 96\n",
      "Time step 97\n",
      "Time step 98\n",
      "Time step 99\n",
      "Time step 100\n",
      "Time step 101\n",
      "Time step 102\n",
      "Time step 103\n",
      "Time step 104\n",
      "Time step 105\n",
      "Time step 106\n",
      "Time step 107\n",
      "Time step 108\n",
      "Time step 109\n",
      "Time step 110\n",
      "Time step 111\n",
      "Time step 112\n",
      "Time step 113\n",
      "Time step 114\n",
      "Time step 115\n",
      "Time step 116\n",
      "Time step 117\n",
      "Time step 118\n",
      "Time step 119\n",
      "Time step 120\n",
      "Time step 121\n",
      "Time step 122\n",
      "Time step 123\n",
      "Time step 124\n",
      "Time step 125\n",
      "Time step 126\n",
      "Time step 127\n",
      "Time step 128\n",
      "Time step 129\n",
      "Time step 130\n",
      "Time step 131\n",
      "Time step 132\n",
      "Time step 133\n",
      "Time step 134\n",
      "Time step 135\n",
      "Time step 136\n",
      "Time step 137\n",
      "Time step 138\n",
      "Time step 139\n",
      "Time step 140\n",
      "Time step 141\n",
      "Time step 142\n",
      "Time step 143\n",
      "Time step 144\n",
      "Time step 145\n",
      "Time step 146\n",
      "Time step 147\n",
      "Time step 148\n",
      "Time step 149\n",
      "Time step 150\n",
      "Time step 151\n",
      "Time step 152\n",
      "Time step 153\n",
      "Time step 154\n",
      "Time step 155\n",
      "Time step 156\n",
      "Time step 157\n",
      "Time step 158\n",
      "Time step 159\n",
      "Time step 160\n",
      "Time step 161\n",
      "Time step 162\n",
      "Time step 163\n",
      "Time step 164\n",
      "Time step 165\n",
      "Time step 166\n",
      "Time step 167\n",
      "Time step 168\n",
      "Time step 169\n",
      "Time step 170\n",
      "Time step 171\n",
      "Time step 172\n",
      "Time step 173\n",
      "Time step 174\n",
      "Time step 175\n",
      "Time step 176\n",
      "Time step 177\n",
      "Time step 178\n",
      "Time step 179\n",
      "Time step 180\n",
      "Time step 181\n",
      "Time step 182\n",
      "Time step 183\n",
      "Time step 184\n",
      "Time step 185\n",
      "Time step 186\n",
      "Time step 187\n",
      "Time step 188\n",
      "Time step 189\n",
      "Time step 190\n",
      "Time step 191\n",
      "Time step 192\n",
      "Time step 193\n",
      "Time step 194\n",
      "Time step 195\n",
      "Time step 196\n",
      "Time step 197\n",
      "Time step 198\n",
      "Time step 199\n"
     ]
    }
   ],
   "source": [
    "enter_t = 0; exit_t = L\n",
    "for t in range(L):\n",
    "    print(\"Time step %s\" %t)\n",
    "    \n",
    "    # Check in control zone or not\n",
    "    in_CZ = [in_control_zone(car.st[0], control_zone) for car in cars] \n",
    "    if in_CZ[0]:  # CAV is in control zone\n",
    "        if enter_t == 0: enter_t = t\n",
    "        # Collect states of all vehicles in control zone\n",
    "        control.update_HDV_set(sum(in_CZ)-1)\n",
    "        all_st = np.array([cars[i].st for i in [i for i, x in enumerate(in_CZ) if x]]).T\n",
    "        control.set_state(all_st)\n",
    "        \n",
    "        start = timer()\n",
    "        control.CILQR()\n",
    "        end = timer()\n",
    "        print((end-start)*1e3)\n",
    "        cars[0].run(control.nom_inputs[0,0])\n",
    "        control.set_nominal(nom_inputs = np.zeros([1, H]))\n",
    "\n",
    "    else:\n",
    "        cars[0].run_v(v_ref)        \n",
    "        \n",
    "    \n",
    "    for i in range(N_HDV):\n",
    "        if in_CZ[i+1]:\n",
    "            if HDV_ego[i]:\n",
    "                cars[i+1].run(min(cars[i+1].u_max, (cars[i+1].v_max-cars[i+1].st[1])/T))   \n",
    "            else:\n",
    "                cars[i+1].run(max(cars[i+1].u_min, (cars[i+1].v_min-cars[i+1].st[1])/T))   \n",
    "        else:\n",
    "            cars[i+1].run_v(v_ref)        \n",
    "\n",
    "    if not in_CZ[0]:\n",
    "        if exit_t == L and enter_t != 0: exit_t = t+1\n",
    "    \n"
   ]
  },
  {
   "cell_type": "code",
   "execution_count": 412,
   "metadata": {},
   "outputs": [],
   "source": [
    "L = cars[0].X_hist[0,:].shape[0]\n",
    "X_hist = np.zeros((n_cars,3,L))\n",
    "\n",
    "for i in range(n_cars):\n",
    "    X_hist[i,0,:] = cars[i].X_hist[0,:]\n",
    "    X_hist[i,1,:] = cars[i].X_hist[1,:]\n",
    "    X_hist[i,2,:-1] = cars[i].U_hist\n"
   ]
  },
  {
   "cell_type": "code",
   "execution_count": 413,
   "metadata": {},
   "outputs": [
    {
     "data": {
      "text/plain": [
       "Text(0, 0.5, 'Position (m)')"
      ]
     },
     "execution_count": 413,
     "metadata": {},
     "output_type": "execute_result"
    },
    {
     "data": {
      "image/png": "[encoded data removed]",
      "text/plain": [
       "<Figure size 432x288 with 1 Axes>"
      ]
     },
     "metadata": {
      "needs_background": "light"
     },
     "output_type": "display_data"
    }
   ],
   "source": [
    "t_series = T*np.linspace(0,L-1,num=L)\n",
    "\n",
    "for i in range(n_cars):\n",
    "    plt.plot(t_series[enter_t:exit_t], X_hist[i,0,:][enter_t:exit_t], label = \"Vehicle \" + str(i))\n",
    "plt.grid()\n",
    "plt.legend(loc=\"upper left\")\n",
    "plt.xlabel('Time (s)')\n",
    "plt.ylabel('Position (m)')\n",
    "# filename = 'plots/postion.png'\n",
    "# plt.savefig(filename)\n",
    "# filename = 'plots/position' +'.tex'\n",
    "# tikzplotlib.save(filename)"
   ]
  },
  {
   "cell_type": "code",
   "execution_count": 414,
   "metadata": {},
   "outputs": [
    {
     "data": {
      "text/plain": [
       "Text(0, 0.5, 'Velocity (m)')"
      ]
     },
     "execution_count": 414,
     "metadata": {},
     "output_type": "execute_result"
    },
    {
     "data": {
      "image/png": "[encoded data removed]",
      "text/plain": [
       "<Figure size 432x288 with 1 Axes>"
      ]
     },
     "metadata": {
      "needs_background": "light"
     },
     "output_type": "display_data"
    }
   ],
   "source": [
    "for i in range(n_cars):\n",
    "    plt.plot(t_series[enter_t:exit_t], X_hist[i,1,:][enter_t:exit_t], label = \"Vehicle \" + str(i))\n",
    "plt.grid()\n",
    "plt.legend(loc=\"upper right\")\n",
    "plt.xlabel('Time (s)')\n",
    "plt.ylabel('Velocity (m)')\n",
    "# filename = 'plots/velocity.png'\n",
    "# plt.savefig(filename)\n",
    "# filename = 'plots/velocity' +'.tex'\n",
    "# tikzplotlib.save(filename)"
   ]
  },
  {
   "cell_type": "code",
   "execution_count": 415,
   "metadata": {},
   "outputs": [
    {
     "data": {
      "text/plain": [
       "<matplotlib.legend.Legend at 0x7f8755958190>"
      ]
     },
     "execution_count": 415,
     "metadata": {},
     "output_type": "execute_result"
    },
    {
     "data": {
      "image/png": "[encoded data removed]",
      "text/plain": [
       "<Figure size 432x288 with 1 Axes>"
      ]
     },
     "metadata": {
      "needs_background": "light"
     },
     "output_type": "display_data"
    }
   ],
   "source": [
    "d = np.zeros([N_HDV,L])\n",
    "for i in range(N_HDV):\n",
    "    for k in range(L):\n",
    "        p1 = X_hist[0,0,k]; p2 = X_hist[i+1,0,k]\n",
    "        d[i,k] = distance(p1, p2, ang)\n",
    "    \n",
    "for i in range(N_HDV):\n",
    "    plt.plot(t_series[enter_t:exit_t], d[i, enter_t:exit_t], label = \"Distance \" + str(0) + \"-\" + str(i+1))\n",
    "plt.grid()\n",
    "plt.xlabel('Time (s)')\n",
    "plt.ylabel('Distance (m)')\n",
    "plt.legend(loc=\"upper right\")\n",
    "# filename = 'plots/distance.png'\n",
    "# plt.savefig(filename)\n",
    "# filename = 'plots/distance' +'.tex'\n",
    "# tikzplotlib.save(filename)"
   ]
  },
  {
   "cell_type": "code",
   "execution_count": null,
   "metadata": {},
   "outputs": [],
   "source": []
  },
  {
   "cell_type": "code",
   "execution_count": null,
   "metadata": {},
   "outputs": [],
   "source": []
  }
 ],
 "metadata": {
  "kernelspec": {
   "display_name": "Python 3",
   "language": "python",
   "name": "python3"
  },
  "language_info": {
   "codemirror_mode": {
    "name": "ipython",
    "version": 3
   },
   "file_extension": ".py",
   "mimetype": "text/x-python",
   "name": "python",
   "nbconvert_exporter": "python",
   "pygments_lexer": "ipython3",
   "version": "3.7.6"
  }
 },
 "nbformat": 4,
 "nbformat_minor": 4
}
